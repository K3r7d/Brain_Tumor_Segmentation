{
 "cells": [
  {
   "cell_type": "code",
   "execution_count": null,
   "metadata": {},
   "outputs": [
    {
     "ename": "",
     "evalue": "",
     "output_type": "error",
     "traceback": [
      "\u001b[1;31mRunning cells with 'Python 3.11.7' requires the ipykernel package.\n",
      "\u001b[1;31mRun the following command to install 'ipykernel' into the Python environment. \n",
      "\u001b[1;31mCommand: 'c:/msys64/ucrt64/bin/python3.11.exe -m pip install ipykernel -U --user --force-reinstall'"
     ]
    }
   ],
   "source": [
    "import os\n",
    "import cv2\n",
    "import numpy as np\n",
    "\n",
    "def load_images_from_folder(folder_path):\n",
    "    \"\"\"\n",
    "    Load all jpg images from a folder using OpenCV.\n",
    "\n",
    "    Args:\n",
    "        folder_path (str): The path to the folder containing jpg images.\n",
    "\n",
    "    Returns:\n",
    "        images (list): A list of images as numpy arrays.\n",
    "        filenames (list): A list of filenames corresponding to the images.\n",
    "    \"\"\"\n",
    "    images = []\n",
    "    filenames = []\n",
    "    \n",
    "    for file in os.listdir(folder_path):\n",
    "        if file.lower().endswith('.jpg'):\n",
    "            full_path = os.path.join(folder_path, file)\n",
    "            try:\n",
    "                img = cv2.imread(full_path)\n",
    "                img_rgb = cv2.cvtColor(img, cv2.COLOR_BGR2RGB)\n",
    "                images.append(img_rgb)\n",
    "                filenames.append(file)\n",
    "            except Exception as e:\n",
    "                print(f\"Error loading {full_path}: {e}\")\n",
    "                \n",
    "    return images, filenames\n",
    "\n",
    "train_folder = \"../../data/raw/train\"\n",
    "test_folder = \"../../data/raw/test\"\n",
    "valid_folder = \"../../data/raw/valid\"\n",
    "\n",
    "train_images, train_filenames = load_images_from_folder(train_folder)\n",
    "test_images, test_filenames = load_images_from_folder(test_folder)\n",
    "valid_images, valid_filenames = load_images_from_folder(valid_folder)\n",
    "\n",
    "print(f\"Loaded {len(train_images)} training images.\")\n"
   ]
  }
 ],
 "metadata": {
  "kernelspec": {
   "display_name": "Python 3",
   "language": "python",
   "name": "python3"
  },
  "language_info": {
   "name": "python",
   "version": "3.11.7"
  }
 },
 "nbformat": 4,
 "nbformat_minor": 2
}
